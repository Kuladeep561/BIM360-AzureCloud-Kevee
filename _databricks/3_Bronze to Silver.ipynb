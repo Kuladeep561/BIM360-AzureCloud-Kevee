{
 "cells": [
  {
   "cell_type": "code",
   "execution_count": 0,
   "metadata": {
    "application/vnd.databricks.v1+cell": {
     "cellMetadata": {
      "byteLimit": 2048000,
      "rowLimit": 10000
     },
     "inputWidgets": {},
     "nuid": "101b85ed-f12a-4f3a-9a40-d5702a978418",
     "showTitle": false,
     "title": ""
    }
   },
   "outputs": [],
   "source": [
    "dbutils.widgets.text('p_project_name', \"\")"
   ]
  },
  {
   "cell_type": "code",
   "execution_count": 0,
   "metadata": {
    "application/vnd.databricks.v1+cell": {
     "cellMetadata": {
      "byteLimit": 2048000,
      "rowLimit": 10000
     },
     "inputWidgets": {},
     "nuid": "6aa05461-d637-4e47-95a0-3ae1b873c223",
     "showTitle": false,
     "title": ""
    }
   },
   "outputs": [],
   "source": [
    "v_project_name = dbutils.widgets.get('p_project_name')"
   ]
  },
  {
   "cell_type": "code",
   "execution_count": 0,
   "metadata": {
    "application/vnd.databricks.v1+cell": {
     "cellMetadata": {
      "byteLimit": 2048000,
      "rowLimit": 10000
     },
     "inputWidgets": {},
     "nuid": "77832548-19ce-4ce6-ad77-35352141d52f",
     "showTitle": false,
     "title": ""
    }
   },
   "outputs": [],
   "source": [
    "table_name= []\n",
    "\n",
    "for i in dbutils.fs.ls(f'/mnt/kevee/bronze/{v_project_name}/'):\n",
    "     _name = (i.name.split('/')[0])\n",
    "     table_name.append(_name.split('.')[0])"
   ]
  },
  {
   "cell_type": "code",
   "execution_count": 0,
   "metadata": {
    "application/vnd.databricks.v1+cell": {
     "cellMetadata": {
      "byteLimit": 2048000,
      "rowLimit": 10000
     },
     "inputWidgets": {},
     "nuid": "e8003ecf-9cf1-478e-86ef-aa4c31b82eba",
     "showTitle": false,
     "title": ""
    }
   },
   "outputs": [],
   "source": [
    "from pyspark.sql.functions import from_utc_timestamp, date_format\n",
    "from pyspark.sql.types import TimestampType\n",
    "import re"
   ]
  },
  {
   "cell_type": "code",
   "execution_count": 0,
   "metadata": {
    "application/vnd.databricks.v1+cell": {
     "cellMetadata": {
      "byteLimit": 2048000,
      "rowLimit": 10000
     },
     "inputWidgets": {},
     "nuid": "69c93036-1f64-41b0-84f2-8252c3bb99f1",
     "showTitle": false,
     "title": ""
    }
   },
   "outputs": [],
   "source": [
    "# Define a function to replace invalid characters in column names\n",
    "def replace_col_names(df):\n",
    "    \"\"\"\n",
    "    Replace invalid characters in column names with alphanumeric characters\n",
    "    and underscores.\n",
    "    \"\"\"\n",
    "    new_col_names = []\n",
    "    for _old_col_name in df.columns:\n",
    "        old_col_name =_old_col_name.split('.')[-1]\n",
    "        new_col_name = re.sub('[ ,;{}()\\n\\t=]+', '_', old_col_name)\n",
    "        new_col_names.append(new_col_name)\n",
    "    # Rename DataFrame with new column names\n",
    "    return df.toDF(*new_col_names)"
   ]
  },
  {
   "cell_type": "code",
   "execution_count": 0,
   "metadata": {
    "application/vnd.databricks.v1+cell": {
     "cellMetadata": {
      "byteLimit": 2048000,
      "rowLimit": 10000
     },
     "inputWidgets": {},
     "nuid": "84d9f601-a8c2-445f-99d8-02c033117a77",
     "showTitle": false,
     "title": ""
    }
   },
   "outputs": [],
   "source": [
    "# Read data from Parquet files and replace invalid column names\n",
    "for table in table_name:\n",
    "    path = f'/mnt/kevee/bronze/{v_project_name}/{table}.parquet'\n",
    "    schema = spark.read.format('parquet').load(path).schema\n",
    "    df = spark.read.format('parquet').schema(schema).load(path)\n",
    "\n",
    "    # Replace invalid characters in column names\n",
    "    df = replace_col_names(df)\n",
    "    \n",
    "    # Write DataFrame to Delta Lake and replace existing data\n",
    "    output_path = f'/mnt/kevee/silver/{v_project_name}/{table}/'\n",
    "    df.write.format('delta').mode(\"overwrite\").save(output_path)"
   ]
  },
  {
   "cell_type": "code",
   "execution_count": 0,
   "metadata": {
    "application/vnd.databricks.v1+cell": {
     "cellMetadata": {
      "byteLimit": 2048000,
      "rowLimit": 10000
     },
     "inputWidgets": {},
     "nuid": "532c25e3-8b2c-47e3-93fe-f73dfc118dac",
     "showTitle": false,
     "title": ""
    }
   },
   "outputs": [],
   "source": [
    "dbutils.notebook.exit('Success')"
   ]
  }
 ],
 "metadata": {
  "application/vnd.databricks.v1+notebook": {
   "dashboards": [],
   "language": "python",
   "notebookMetadata": {
    "mostRecentlyExecutedCommandWithImplicitDF": {
     "commandId": 4093613164012699,
     "dataframes": [
      "_sqldf"
     ]
    },
    "pythonIndentUnit": 4
   },
   "notebookName": "3_Bronze to Silver",
   "widgets": {
    "p_project_name": {
     "currentValue": "D1111",
     "nuid": "7aabd713-993b-4fdf-ac6e-f3a8d2b89ffe",
     "widgetInfo": {
      "widgetType": "text",
      "defaultValue": "",
      "label": null,
      "name": "p_project_name",
      "options": {
       "widgetType": "text",
       "autoCreated": null,
       "validationRegex": null
      }
     }
    }
   }
  },
  "language_info": {
   "name": "python"
  }
 },
 "nbformat": 4,
 "nbformat_minor": 0
}
