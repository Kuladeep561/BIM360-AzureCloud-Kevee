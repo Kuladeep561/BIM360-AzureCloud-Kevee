{
 "cells": [
  {
   "cell_type": "code",
   "execution_count": 0,
   "metadata": {
    "application/vnd.databricks.v1+cell": {
     "cellMetadata": {
      "byteLimit": 2048000,
      "rowLimit": 10000
     },
     "inputWidgets": {},
     "nuid": "6ebf795b-8341-4087-bb37-79a0c52859b2",
     "showTitle": false,
     "title": ""
    }
   },
   "outputs": [],
   "source": [
    "dbutils.widgets.text('p_project_name',\"\")"
   ]
  },
  {
   "cell_type": "code",
   "execution_count": 0,
   "metadata": {
    "application/vnd.databricks.v1+cell": {
     "cellMetadata": {
      "byteLimit": 2048000,
      "rowLimit": 10000
     },
     "inputWidgets": {},
     "nuid": "0e1d55d7-fd4b-459d-8868-e038412c8288",
     "showTitle": false,
     "title": ""
    }
   },
   "outputs": [],
   "source": [
    "v_project_name = dbutils.widgets.get('p_project_name')"
   ]
  },
  {
   "cell_type": "code",
   "execution_count": 0,
   "metadata": {
    "application/vnd.databricks.v1+cell": {
     "cellMetadata": {
      "byteLimit": 2048000,
      "rowLimit": 10000
     },
     "inputWidgets": {},
     "nuid": "dc318ed6-0763-4370-a4ec-53b2d197c688",
     "showTitle": false,
     "title": ""
    }
   },
   "outputs": [],
   "source": [
    "table_name= []\n",
    "\n",
    "for i in dbutils.fs.ls(f'/mnt/kevee/silver/{v_project_name}/'):\n",
    "     _name = (i.name.split('/')[0])\n",
    "     table_name.append(_name.split('.')[0])"
   ]
  },
  {
   "cell_type": "code",
   "execution_count": 0,
   "metadata": {
    "application/vnd.databricks.v1+cell": {
     "cellMetadata": {
      "byteLimit": 2048000,
      "rowLimit": 10000
     },
     "inputWidgets": {},
     "nuid": "70fe8704-f931-419b-b935-476ede496d8c",
     "showTitle": false,
     "title": ""
    }
   },
   "outputs": [],
   "source": [
    "# Define the list of required columns\n",
    "required_columns = ['name', 'externalId', 'Structural_Material', 'IDK_Positionsnummer', 'modelVersionCreateTime', 'modelVersionNumber', 'Volume', 'Estimated_Reinforcement_Volume', 'EDD_Stahlmengenschätzung']\n",
    "\n",
    "for table in table_name:\n",
    "    path = f'/mnt/kevee/silver/{v_project_name}/{table}'\n",
    "    df = spark.read.format('delta').load(path)\n",
    "\n",
    "    # Select only the required columns from the DataFrame\n",
    "    selected_columns = []\n",
    "    for column in required_columns:\n",
    "        if column in df.columns:\n",
    "            selected_columns.append(column)\n",
    "    \n",
    "    df_selected_columns = df.select(*selected_columns)\n",
    "    \n",
    "    # Write DataFrame to Delta Lake and replace existing data\n",
    "    output_path = f'/mnt/kevee/gold/{v_project_name}/{table}/'\n",
    "    df_selected_columns.write.format('delta').mode(\"overwrite\").save(output_path)\n",
    "    \n"
   ]
  },
  {
   "cell_type": "code",
   "execution_count": 0,
   "metadata": {
    "application/vnd.databricks.v1+cell": {
     "cellMetadata": {
      "byteLimit": 2048000,
      "rowLimit": 10000
     },
     "inputWidgets": {},
     "nuid": "2cc7473a-a2e8-47e0-905f-04cb681be0d3",
     "showTitle": false,
     "title": ""
    }
   },
   "outputs": [],
   "source": [
    "dbutils.notebook.exit('Success')"
   ]
  }
 ],
 "metadata": {
  "application/vnd.databricks.v1+notebook": {
   "dashboards": [],
   "language": "python",
   "notebookMetadata": {
    "pythonIndentUnit": 4
   },
   "notebookName": "4_Silver to Gold",
   "widgets": {
    "p_project_name": {
     "currentValue": "P3138",
     "nuid": "cefd34c8-e55a-4098-8ddf-0245716dac1a",
     "widgetInfo": {
      "widgetType": "text",
      "defaultValue": "",
      "label": null,
      "name": "p_project_name",
      "options": {
       "widgetType": "text",
       "autoCreated": null,
       "validationRegex": null
      }
     }
    }
   }
  }
 },
 "nbformat": 4,
 "nbformat_minor": 0
}
